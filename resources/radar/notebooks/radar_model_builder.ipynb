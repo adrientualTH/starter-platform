{
 "cells": [
  {
   "cell_type": "code",
   "execution_count": 15,
   "metadata": {},
   "outputs": [],
   "source": [
    "import pandas as pd\n",
    "import mlflow.pyfunc\n",
    "from zipfile import ZipFile\n"
   ]
  },
  {
   "cell_type": "code",
   "execution_count": 16,
   "metadata": {
    "vscode": {
     "languageId": "bat"
    }
   },
   "outputs": [
    {
     "name": "stdout",
     "output_type": "stream",
     "text": [
      "pandas==1.4.2\n",
      "Note: you may need to restart the kernel to use updated packages.\n"
     ]
    }
   ],
   "source": [
    "pip freeze | grep pandas\n"
   ]
  },
  {
   "cell_type": "code",
   "execution_count": 2,
   "metadata": {},
   "outputs": [],
   "source": [
    "inputDF = pd.read_csv(\"/home/dorian/punchplatform/demos/starter-platform/resources/radar/data/train-radar.csv\")"
   ]
  },
  {
   "attachments": {},
   "cell_type": "markdown",
   "metadata": {},
   "source": [
    "# Prediction function implementation and test"
   ]
  },
  {
   "cell_type": "code",
   "execution_count": 5,
   "metadata": {},
   "outputs": [],
   "source": [
    "# Fonction pour déterminer la prédiction\n",
    "def determine_prediction(row):\n",
    "    if row['is_ocean'] == 1:\n",
    "        return 'bateau'\n",
    "    elif row['alt'] > 0:\n",
    "        return 'avion'\n",
    "    else:\n",
    "        return 'véhicule terrestre'\n",
    "\n",
    "# Appliquer la fonction à chaque ligne\n",
    "inputDF['prediction'] = inputDF.apply(determine_prediction, axis=1)"
   ]
  },
  {
   "cell_type": "code",
   "execution_count": 6,
   "metadata": {},
   "outputs": [
    {
     "data": {
      "text/html": [
       "<div>\n",
       "<style scoped>\n",
       "    .dataframe tbody tr th:only-of-type {\n",
       "        vertical-align: middle;\n",
       "    }\n",
       "\n",
       "    .dataframe tbody tr th {\n",
       "        vertical-align: top;\n",
       "    }\n",
       "\n",
       "    .dataframe thead th {\n",
       "        text-align: right;\n",
       "    }\n",
       "</style>\n",
       "<table border=\"1\" class=\"dataframe\">\n",
       "  <thead>\n",
       "    <tr style=\"text-align: right;\">\n",
       "      <th></th>\n",
       "      <th>id</th>\n",
       "      <th>lon</th>\n",
       "      <th>lat</th>\n",
       "      <th>alt</th>\n",
       "      <th>frequence</th>\n",
       "      <th>is_ocean</th>\n",
       "      <th>timestamp</th>\n",
       "      <th>prediction</th>\n",
       "    </tr>\n",
       "  </thead>\n",
       "  <tbody>\n",
       "    <tr>\n",
       "      <th>0</th>\n",
       "      <td>8</td>\n",
       "      <td>56</td>\n",
       "      <td>55</td>\n",
       "      <td>0</td>\n",
       "      <td>21638</td>\n",
       "      <td>1</td>\n",
       "      <td>Nov 28 11:18:45</td>\n",
       "      <td>bateau</td>\n",
       "    </tr>\n",
       "    <tr>\n",
       "      <th>1</th>\n",
       "      <td>9</td>\n",
       "      <td>120</td>\n",
       "      <td>21</td>\n",
       "      <td>3705</td>\n",
       "      <td>6192</td>\n",
       "      <td>1</td>\n",
       "      <td>Nov 28 11:18:45</td>\n",
       "      <td>bateau</td>\n",
       "    </tr>\n",
       "    <tr>\n",
       "      <th>2</th>\n",
       "      <td>8</td>\n",
       "      <td>98</td>\n",
       "      <td>163</td>\n",
       "      <td>0</td>\n",
       "      <td>2847</td>\n",
       "      <td>1</td>\n",
       "      <td>Nov 28 11:18:45</td>\n",
       "      <td>bateau</td>\n",
       "    </tr>\n",
       "    <tr>\n",
       "      <th>3</th>\n",
       "      <td>8</td>\n",
       "      <td>37</td>\n",
       "      <td>123</td>\n",
       "      <td>3792</td>\n",
       "      <td>12060</td>\n",
       "      <td>0</td>\n",
       "      <td>Nov 28 11:18:45</td>\n",
       "      <td>avion</td>\n",
       "    </tr>\n",
       "    <tr>\n",
       "      <th>4</th>\n",
       "      <td>7</td>\n",
       "      <td>109</td>\n",
       "      <td>90</td>\n",
       "      <td>0</td>\n",
       "      <td>7741</td>\n",
       "      <td>1</td>\n",
       "      <td>Nov 28 11:18:45</td>\n",
       "      <td>bateau</td>\n",
       "    </tr>\n",
       "  </tbody>\n",
       "</table>\n",
       "</div>"
      ],
      "text/plain": [
       "   id  lon  lat   alt  frequence  is_ocean        timestamp prediction\n",
       "0   8   56   55     0      21638         1  Nov 28 11:18:45     bateau\n",
       "1   9  120   21  3705       6192         1  Nov 28 11:18:45     bateau\n",
       "2   8   98  163     0       2847         1  Nov 28 11:18:45     bateau\n",
       "3   8   37  123  3792      12060         0  Nov 28 11:18:45      avion\n",
       "4   7  109   90     0       7741         1  Nov 28 11:18:45     bateau"
      ]
     },
     "execution_count": 6,
     "metadata": {},
     "output_type": "execute_result"
    }
   ],
   "source": [
    "inputDF.head()"
   ]
  },
  {
   "attachments": {},
   "cell_type": "markdown",
   "metadata": {},
   "source": [
    "# MLFOW model builder"
   ]
  },
  {
   "cell_type": "code",
   "execution_count": 5,
   "metadata": {},
   "outputs": [],
   "source": [
    "import mlflow.pyfunc\n",
    "from zipfile import ZipFile\n",
    "import os\n",
    "import shutil\n",
    "import datetime\n",
    "\n",
    "\n",
    "\n",
    "group = \"io.model\"\n",
    "name = \"vehicle-predictor\"\n",
    "version = \"1.0\"\n",
    "\n",
    "PUNCH_MODEL_CREATION_DIR = f'/tmp/punch_artifact_env/python/{group.replace(\".\", \"/\")}/{name}/{version}/'\n",
    "\n",
    "shutil.rmtree(PUNCH_MODEL_CREATION_DIR, ignore_errors=True)\n",
    "os.makedirs(PUNCH_MODEL_CREATION_DIR, exist_ok=True)\n",
    "\n",
    "class vehiclePredictorWrapper(mlflow.pyfunc.PythonModel):\n",
    "\n",
    "# Fonction pour déterminer la prédiction\n",
    "    def predict(self, context, model_input):\n",
    "        def determine_prediction(row):\n",
    "            if row['is_ocean'] == 1:\n",
    "                return 'bateau'\n",
    "            elif row['alt'] > 0:\n",
    "                return 'avion'\n",
    "            else:\n",
    "                return 'véhicule terrestre'\n",
    "\n",
    "        return model_input.apply(determine_prediction, axis=1)\n",
    "\n",
    "# Supposez que `model` est votre modèle scikit-learn\n",
    "model_wrapper = vehiclePredictorWrapper()\n",
    "\n",
    "# Maintenant, sauvegardez le wrapper\n",
    "mlflow.pyfunc.save_model(python_model=model_wrapper, path=PUNCH_MODEL_CREATION_DIR)\n",
    "\n",
    "with ZipFile(f'{PUNCH_MODEL_CREATION_DIR}/{name}_{version}.zip', 'w') as zipObj:\n",
    "    for folderName, subfolders, filenames in os.walk(PUNCH_MODEL_CREATION_DIR):\n",
    "        for filename in filenames:\n",
    "            if filename != f'{name}_{version}.zip':\n",
    "                filePath = os.path.join(folderName, filename)\n",
    "                zipObj.write(filePath, filename)\n",
    "\n",
    "# create metadata file\n",
    "metadata = (f'type: model\\n'\n",
    "            f'group: {group}\\n'\n",
    "            f'logo: https://punchplatform.com/wp-content/uploads/2020/01/logos_png_logo_punch_color2019_marge.png\\n'\n",
    "            f'version: {version}\\n'\n",
    "            f'artifact: {name}\\n'\n",
    "            f'displayName: {name}\\n'\n",
    "            f'createdAt: {int(datetime.datetime.timestamp(datetime.datetime.now()) * 1000)}\\n'\n",
    "            f'description: Vehicle predictor model pandas(2.0.0), sklearn(1.1.1)')\n",
    "\n",
    "with open(f'{PUNCH_MODEL_CREATION_DIR}/metadata.yml', 'w') as f:\n",
    "    f.write(metadata)\n",
    "    \n",
    "# make artifact zip\n",
    "with ZipFile(f'{PUNCH_MODEL_CREATION_DIR}/artifact_{name}_{version}.zip', 'w') as zipObj:\n",
    "    zipObj.write(f'{PUNCH_MODEL_CREATION_DIR}/{name}_{version}.zip', f'{name}_{version}.zip')\n",
    "    zipObj.write(f'{PUNCH_MODEL_CREATION_DIR}/metadata.yml', 'metadata.yml')\n"
   ]
  },
  {
   "attachments": {},
   "cell_type": "markdown",
   "metadata": {},
   "source": [
    "# LOADING TEST"
   ]
  },
  {
   "cell_type": "code",
   "execution_count": 12,
   "metadata": {},
   "outputs": [
    {
     "name": "stdout",
     "output_type": "stream",
     "text": [
      "/tmp/punch_artifact_env/python/io/models/vehicle-predictor/1.0/\n"
     ]
    }
   ],
   "source": [
    "ppf_get_model = group+\":\"+name+\":\"+version\n",
    "group, artifact, version = ppf_get_model.split(\":\")\n",
    "model_path = f'/tmp/punch_artifact_env/python/{group.replace(\".\", \"/\")}/{artifact}/{version}/'\n",
    "print(model_path)\n",
    "output = model_path"
   ]
  },
  {
   "cell_type": "code",
   "execution_count": 13,
   "metadata": {},
   "outputs": [],
   "source": [
    "loaded_model = mlflow.pyfunc.load_model(model_path)"
   ]
  },
  {
   "cell_type": "code",
   "execution_count": 16,
   "metadata": {},
   "outputs": [],
   "source": [
    "testDF = pd.read_csv(\"/home/dorian/punchplatform/demos/starter-platform/resources/radar/data/train-radar.csv\")\n",
    "testDF[\"prediction\"] = loaded_model.predict(testDF)"
   ]
  },
  {
   "cell_type": "code",
   "execution_count": 17,
   "metadata": {},
   "outputs": [
    {
     "data": {
      "text/html": [
       "<div>\n",
       "<style scoped>\n",
       "    .dataframe tbody tr th:only-of-type {\n",
       "        vertical-align: middle;\n",
       "    }\n",
       "\n",
       "    .dataframe tbody tr th {\n",
       "        vertical-align: top;\n",
       "    }\n",
       "\n",
       "    .dataframe thead th {\n",
       "        text-align: right;\n",
       "    }\n",
       "</style>\n",
       "<table border=\"1\" class=\"dataframe\">\n",
       "  <thead>\n",
       "    <tr style=\"text-align: right;\">\n",
       "      <th></th>\n",
       "      <th>id</th>\n",
       "      <th>lon</th>\n",
       "      <th>lat</th>\n",
       "      <th>alt</th>\n",
       "      <th>frequence</th>\n",
       "      <th>is_ocean</th>\n",
       "      <th>timestamp</th>\n",
       "      <th>prediction</th>\n",
       "    </tr>\n",
       "  </thead>\n",
       "  <tbody>\n",
       "    <tr>\n",
       "      <th>0</th>\n",
       "      <td>8</td>\n",
       "      <td>56</td>\n",
       "      <td>55</td>\n",
       "      <td>0</td>\n",
       "      <td>21638</td>\n",
       "      <td>1</td>\n",
       "      <td>Nov 28 11:18:45</td>\n",
       "      <td>bateau</td>\n",
       "    </tr>\n",
       "    <tr>\n",
       "      <th>1</th>\n",
       "      <td>9</td>\n",
       "      <td>120</td>\n",
       "      <td>21</td>\n",
       "      <td>3705</td>\n",
       "      <td>6192</td>\n",
       "      <td>1</td>\n",
       "      <td>Nov 28 11:18:45</td>\n",
       "      <td>bateau</td>\n",
       "    </tr>\n",
       "    <tr>\n",
       "      <th>2</th>\n",
       "      <td>8</td>\n",
       "      <td>98</td>\n",
       "      <td>163</td>\n",
       "      <td>0</td>\n",
       "      <td>2847</td>\n",
       "      <td>1</td>\n",
       "      <td>Nov 28 11:18:45</td>\n",
       "      <td>bateau</td>\n",
       "    </tr>\n",
       "    <tr>\n",
       "      <th>3</th>\n",
       "      <td>8</td>\n",
       "      <td>37</td>\n",
       "      <td>123</td>\n",
       "      <td>3792</td>\n",
       "      <td>12060</td>\n",
       "      <td>0</td>\n",
       "      <td>Nov 28 11:18:45</td>\n",
       "      <td>avion</td>\n",
       "    </tr>\n",
       "    <tr>\n",
       "      <th>4</th>\n",
       "      <td>7</td>\n",
       "      <td>109</td>\n",
       "      <td>90</td>\n",
       "      <td>0</td>\n",
       "      <td>7741</td>\n",
       "      <td>1</td>\n",
       "      <td>Nov 28 11:18:45</td>\n",
       "      <td>bateau</td>\n",
       "    </tr>\n",
       "  </tbody>\n",
       "</table>\n",
       "</div>"
      ],
      "text/plain": [
       "   id  lon  lat   alt  frequence  is_ocean        timestamp prediction\n",
       "0   8   56   55     0      21638         1  Nov 28 11:18:45     bateau\n",
       "1   9  120   21  3705       6192         1  Nov 28 11:18:45     bateau\n",
       "2   8   98  163     0       2847         1  Nov 28 11:18:45     bateau\n",
       "3   8   37  123  3792      12060         0  Nov 28 11:18:45      avion\n",
       "4   7  109   90     0       7741         1  Nov 28 11:18:45     bateau"
      ]
     },
     "execution_count": 17,
     "metadata": {},
     "output_type": "execute_result"
    }
   ],
   "source": [
    "testDF.head()"
   ]
  },
  {
   "cell_type": "code",
   "execution_count": 17,
   "metadata": {},
   "outputs": [],
   "source": [
    "compressedDF = pd.read_csv(\"/home/dorian/Downloads/train-radar.csv.gz\", encoding=\"UTF-8\", sep=\",\", compression=\"gzip\")"
   ]
  },
  {
   "cell_type": "code",
   "execution_count": 18,
   "metadata": {},
   "outputs": [
    {
     "data": {
      "text/html": [
       "<div>\n",
       "<style scoped>\n",
       "    .dataframe tbody tr th:only-of-type {\n",
       "        vertical-align: middle;\n",
       "    }\n",
       "\n",
       "    .dataframe tbody tr th {\n",
       "        vertical-align: top;\n",
       "    }\n",
       "\n",
       "    .dataframe thead th {\n",
       "        text-align: right;\n",
       "    }\n",
       "</style>\n",
       "<table border=\"1\" class=\"dataframe\">\n",
       "  <thead>\n",
       "    <tr style=\"text-align: right;\">\n",
       "      <th></th>\n",
       "      <th>id</th>\n",
       "      <th>lon</th>\n",
       "      <th>lat</th>\n",
       "      <th>alt</th>\n",
       "      <th>frequence</th>\n",
       "      <th>is_ocean</th>\n",
       "      <th>timestamp</th>\n",
       "    </tr>\n",
       "  </thead>\n",
       "  <tbody>\n",
       "    <tr>\n",
       "      <th>0</th>\n",
       "      <td>8</td>\n",
       "      <td>56</td>\n",
       "      <td>55</td>\n",
       "      <td>0</td>\n",
       "      <td>21638</td>\n",
       "      <td>1</td>\n",
       "      <td>Nov 28 11:18:45</td>\n",
       "    </tr>\n",
       "    <tr>\n",
       "      <th>1</th>\n",
       "      <td>9</td>\n",
       "      <td>120</td>\n",
       "      <td>21</td>\n",
       "      <td>3705</td>\n",
       "      <td>6192</td>\n",
       "      <td>1</td>\n",
       "      <td>Nov 28 11:18:45</td>\n",
       "    </tr>\n",
       "    <tr>\n",
       "      <th>2</th>\n",
       "      <td>8</td>\n",
       "      <td>98</td>\n",
       "      <td>163</td>\n",
       "      <td>0</td>\n",
       "      <td>2847</td>\n",
       "      <td>1</td>\n",
       "      <td>Nov 28 11:18:45</td>\n",
       "    </tr>\n",
       "    <tr>\n",
       "      <th>3</th>\n",
       "      <td>8</td>\n",
       "      <td>37</td>\n",
       "      <td>123</td>\n",
       "      <td>3792</td>\n",
       "      <td>12060</td>\n",
       "      <td>0</td>\n",
       "      <td>Nov 28 11:18:45</td>\n",
       "    </tr>\n",
       "    <tr>\n",
       "      <th>4</th>\n",
       "      <td>7</td>\n",
       "      <td>109</td>\n",
       "      <td>90</td>\n",
       "      <td>0</td>\n",
       "      <td>7741</td>\n",
       "      <td>1</td>\n",
       "      <td>Nov 28 11:18:45</td>\n",
       "    </tr>\n",
       "  </tbody>\n",
       "</table>\n",
       "</div>"
      ],
      "text/plain": [
       "   id  lon  lat   alt  frequence  is_ocean        timestamp\n",
       "0   8   56   55     0      21638         1  Nov 28 11:18:45\n",
       "1   9  120   21  3705       6192         1  Nov 28 11:18:45\n",
       "2   8   98  163     0       2847         1  Nov 28 11:18:45\n",
       "3   8   37  123  3792      12060         0  Nov 28 11:18:45\n",
       "4   7  109   90     0       7741         1  Nov 28 11:18:45"
      ]
     },
     "execution_count": 18,
     "metadata": {},
     "output_type": "execute_result"
    }
   ],
   "source": [
    "compressedDF.head()"
   ]
  },
  {
   "cell_type": "code",
   "execution_count": null,
   "metadata": {},
   "outputs": [],
   "source": []
  }
 ],
 "metadata": {
  "kernelspec": {
   "display_name": "Python 3",
   "language": "python",
   "name": "python3"
  },
  "language_info": {
   "codemirror_mode": {
    "name": "ipython",
    "version": 3
   },
   "file_extension": ".py",
   "mimetype": "text/x-python",
   "name": "python",
   "nbconvert_exporter": "python",
   "pygments_lexer": "ipython3",
   "version": "3.10.4"
  },
  "orig_nbformat": 4,
  "vscode": {
   "interpreter": {
    "hash": "576579af88856062c054646f91ade8936ba9c0cbd617bbeba0e25c346706d980"
   }
  }
 },
 "nbformat": 4,
 "nbformat_minor": 2
}
