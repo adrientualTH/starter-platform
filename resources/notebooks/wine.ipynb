{
 "cells": [
  {
   "cell_type": "code",
   "execution_count": 7,
   "metadata": {},
   "outputs": [
    {
     "name": "stderr",
     "output_type": "stream",
     "text": [
      "/home/dorian/.pyenv/versions/3.10.4/lib/python3.10/site-packages/huggingface_hub/file_download.py:672: FutureWarning: 'cached_download' is the legacy way to download files from the HF hub, please consider upgrading to 'hf_hub_download'\n",
      "  warnings.warn(\n",
      "/home/dorian/.pyenv/versions/3.10.4/lib/python3.10/site-packages/sklearn/base.py:329: UserWarning: Trying to unpickle estimator StandardScaler from version 0.24.2 when using version 1.1.1. This might lead to breaking code or invalid results. Use at your own risk. For more info please refer to:\n",
      "https://scikit-learn.org/stable/model_persistence.html#security-maintainability-limitations\n",
      "  warnings.warn(\n",
      "/home/dorian/.pyenv/versions/3.10.4/lib/python3.10/site-packages/sklearn/base.py:329: UserWarning: Trying to unpickle estimator SVC from version 0.24.2 when using version 1.1.1. This might lead to breaking code or invalid results. Use at your own risk. For more info please refer to:\n",
      "https://scikit-learn.org/stable/model_persistence.html#security-maintainability-limitations\n",
      "  warnings.warn(\n",
      "/home/dorian/.pyenv/versions/3.10.4/lib/python3.10/site-packages/sklearn/base.py:329: UserWarning: Trying to unpickle estimator Pipeline from version 0.24.2 when using version 1.1.1. This might lead to breaking code or invalid results. Use at your own risk. For more info please refer to:\n",
      "https://scikit-learn.org/stable/model_persistence.html#security-maintainability-limitations\n",
      "  warnings.warn(\n"
     ]
    }
   ],
   "source": [
    "from huggingface_hub import hf_hub_url, cached_download\n",
    "import joblib\n",
    "import pandas as pd\n",
    "\n",
    "REPO_ID = \"julien-c/wine-quality\"\n",
    "FILENAME = \"sklearn_model.joblib\"\n",
    "\n",
    "\n",
    "model = joblib.load(cached_download(\n",
    "    hf_hub_url(REPO_ID, FILENAME)\n",
    "))\n"
   ]
  },
  {
   "cell_type": "code",
   "execution_count": 29,
   "metadata": {},
   "outputs": [],
   "source": [
    "import mlflow.pyfunc\n",
    "from zipfile import ZipFile\n",
    "import os\n",
    "import shutil\n",
    "import datetime\n",
    "\n",
    "\n",
    "\n",
    "group = \"io.models\"\n",
    "name = \"wine\"\n",
    "version = \"1.0\"\n",
    "\n",
    "PUNCH_MODEL_CREATION_DIR = f'/tmp/punch_artifact_env/python/{group.replace(\".\", \"/\")}/{name}/{version}/'\n",
    "\n",
    "shutil.rmtree(PUNCH_MODEL_CREATION_DIR, ignore_errors=True)\n",
    "os.makedirs(PUNCH_MODEL_CREATION_DIR, exist_ok=True)\n",
    "\n",
    "class ModelWrapper(mlflow.pyfunc.PythonModel):\n",
    "\n",
    "    def __init__(self, model):\n",
    "        self.model = model\n",
    "\n",
    "    def predict(self, context, model_input):\n",
    "        return self.model.predict(model_input)\n",
    "\n",
    "# Supposez que `model` est votre modèle scikit-learn\n",
    "model_wrapper = ModelWrapper(model)\n",
    "\n",
    "# Maintenant, sauvegardez le wrapper\n",
    "mlflow.pyfunc.save_model(python_model=model_wrapper, path=PUNCH_MODEL_CREATION_DIR)\n",
    "\n",
    "with ZipFile(f'{PUNCH_MODEL_CREATION_DIR}/{name}_{version}.zip', 'w') as zipObj:\n",
    "    for folderName, subfolders, filenames in os.walk(PUNCH_MODEL_CREATION_DIR):\n",
    "        for filename in filenames:\n",
    "            if filename != f'{name}_{version}.zip':\n",
    "                filePath = os.path.join(folderName, filename)\n",
    "                zipObj.write(filePath, filename)\n",
    "\n",
    "# create metadata file\n",
    "metadata = (f'type: model\\n'\n",
    "            f'group: {group}\\n'\n",
    "            f'logo: https://punchplatform.com/wp-content/uploads/2020/01/logos_png_logo_punch_color2019_marge.png\\n'\n",
    "            f'version: {version}\\n'\n",
    "            f'artifact: {name}\\n'\n",
    "            f'displayName: {name}\\n'\n",
    "            f'createdAt: {int(datetime.datetime.timestamp(datetime.datetime.now()) * 1000)}\\n'\n",
    "            f'description: model')\n",
    "\n",
    "with open(f'{PUNCH_MODEL_CREATION_DIR}/metadata.yml', 'w') as f:\n",
    "    f.write(metadata)\n",
    "    \n",
    "# make artifact zip\n",
    "with ZipFile(f'{PUNCH_MODEL_CREATION_DIR}/artifact_{name}_{version}.zip', 'w') as zipObj:\n",
    "    zipObj.write(f'{PUNCH_MODEL_CREATION_DIR}/{name}_{version}.zip', f'{name}_{version}.zip')\n",
    "    zipObj.write(f'{PUNCH_MODEL_CREATION_DIR}/metadata.yml', 'metadata.yml')\n"
   ]
  },
  {
   "cell_type": "code",
   "execution_count": 31,
   "metadata": {},
   "outputs": [
    {
     "name": "stdout",
     "output_type": "stream",
     "text": [
      "tmp/punch_artifact_env/python/io/models/wine/1.0/\n"
     ]
    }
   ],
   "source": [
    "ppf_get_model = \"io.models:wine:1.0\"\n",
    "group, artifact, version = ppf_get_model.split(\":\")\n",
    "model_path = f'tmp/punch_artifact_env/python/{group.replace(\".\", \"/\")}/{artifact}/{version}/'\n",
    "print(model_path)\n",
    "output = model_path"
   ]
  },
  {
   "cell_type": "code",
   "execution_count": null,
   "metadata": {},
   "outputs": [],
   "source": []
  }
 ],
 "metadata": {
  "kernelspec": {
   "display_name": "Python 3",
   "language": "python",
   "name": "python3"
  },
  "language_info": {
   "codemirror_mode": {
    "name": "ipython",
    "version": 3
   },
   "file_extension": ".py",
   "mimetype": "text/x-python",
   "name": "python",
   "nbconvert_exporter": "python",
   "pygments_lexer": "ipython3",
   "version": "3.10.4"
  },
  "orig_nbformat": 4,
  "vscode": {
   "interpreter": {
    "hash": "576579af88856062c054646f91ade8936ba9c0cbd617bbeba0e25c346706d980"
   }
  }
 },
 "nbformat": 4,
 "nbformat_minor": 2
}
